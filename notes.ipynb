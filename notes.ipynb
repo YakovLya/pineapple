{
 "cells": [
  {
   "cell_type": "code",
   "execution_count": 20,
   "metadata": {},
   "outputs": [],
   "source": [
    "import networkx as nx\n",
    "import json\n",
    "import numpy as np\n",
    "import pickle\n",
    "from pyvis.network import Network\n",
    "import matplotlib.pyplot as plt\n",
    "from pprint import pprint"
   ]
  },
  {
   "cell_type": "code",
   "execution_count": 21,
   "metadata": {},
   "outputs": [],
   "source": [
    "# загружаем граф из файла\n",
    "with open('out/graph.pickle', 'rb') as f:\n",
    "    G = pickle.load(f)\n"
   ]
  },
  {
   "cell_type": "code",
   "execution_count": 22,
   "metadata": {},
   "outputs": [
    {
     "name": "stdout",
     "output_type": "stream",
     "text": [
      "Количество компонент связности: 5409\n"
     ]
    }
   ],
   "source": [
    "print('Количество компонент связности:', nx.number_connected_components(G)) "
   ]
  },
  {
   "cell_type": "code",
   "execution_count": 23,
   "metadata": {},
   "outputs": [],
   "source": [
    "exclude_one_nodes = G.copy()\n",
    "exclude_one_nodes.remove_nodes_from(list(nx.isolates(exclude_one_nodes)))"
   ]
  },
  {
   "cell_type": "code",
   "execution_count": 24,
   "metadata": {},
   "outputs": [
    {
     "name": "stdout",
     "output_type": "stream",
     "text": [
      "Количество компонент связности без одиночных вершин: 420\n"
     ]
    }
   ],
   "source": [
    "print('Количество компонент связности без одиночных вершин:', nx.number_connected_components(exclude_one_nodes)) "
   ]
  },
  {
   "cell_type": "code",
   "execution_count": 25,
   "metadata": {},
   "outputs": [
    {
     "name": "stdout",
     "output_type": "stream",
     "text": [
      "Размеры компонент связности: [202, 22, 17, 11, 11, 9, 7, 7, 6, 6, 6, 6, 6, 5, 5, 5, 5, 5, 4, 4, 4, 4, 4, 4, 4, 4, 4, 4, 4, 4, 4, 4, 4, 4, 4, 3, 3, 3, 3, 3, 3, 3, 3, 3, 3, 3, 3, 3, 3, 3, 3, 3, 3, 3, 3, 3, 3, 3, 3, 3, 3, 3, 3, 3, 3, 3, 3, 3, 3, 3, 3, 3, 3, 3, 3, 3, 3, 3, 3, 3, 3, 3, 3, 3, 3, 3, 3, 3, 3, 3, 3, 3, 3, 3, 2, 2, 2, 2, 2, 2, 2, 2, 2, 2, 2, 2, 2, 2, 2, 2, 2, 2, 2, 2, 2, 2, 2, 2, 2, 2, 2, 2, 2, 2, 2, 2, 2, 2, 2, 2, 2, 2, 2, 2, 2, 2, 2, 2, 2, 2, 2, 2, 2, 2, 2, 2, 2, 2, 2, 2, 2, 2, 2, 2, 2, 2, 2, 2, 2, 2, 2, 2, 2, 2, 2, 2, 2, 2, 2, 2, 2, 2, 2, 2, 2, 2, 2, 2, 2, 2, 2, 2, 2, 2, 2, 2, 2, 2, 2, 2, 2, 2, 2, 2, 2, 2, 2, 2, 2, 2, 2, 2, 2, 2, 2, 2, 2, 2, 2, 2, 2, 2, 2, 2, 2, 2, 2, 2, 2, 2, 2, 2, 2, 2, 2, 2, 2, 2, 2, 2, 2, 2, 2, 2, 2, 2, 2, 2, 2, 2, 2, 2, 2, 2, 2, 2, 2, 2, 2, 2, 2, 2, 2, 2, 2, 2, 2, 2, 2, 2, 2, 2, 2, 2, 2, 2, 2, 2, 2, 2, 2, 2, 2, 2, 2, 2, 2, 2, 2, 2, 2, 2, 2, 2, 2, 2, 2, 2, 2, 2, 2, 2, 2, 2, 2, 2, 2, 2, 2, 2, 2, 2, 2, 2, 2, 2, 2, 2, 2, 2, 2, 2, 2, 2, 2, 2, 2, 2, 2, 2, 2, 2, 2, 2, 2, 2, 2, 2, 2, 2, 2, 2, 2, 2, 2, 2, 2, 2, 2, 2, 2, 2, 2, 2, 2, 2, 2, 2, 2, 2, 2, 2, 2, 2, 2, 2, 2, 2, 2, 2, 2, 2, 2, 2, 2, 2, 2, 2, 2, 2, 2, 2, 2, 2, 2, 2, 2, 2, 2, 2, 2, 2, 2, 2, 2, 2, 2, 2, 2, 2, 2, 2, 2, 2, 2, 2, 2, 2, 2, 2, 2, 2, 2, 2, 2, 2, 2, 2, 2, 2, 2, 2, 2, 2, 2, 2, 2, 2, 2, 2]\n"
     ]
    }
   ],
   "source": [
    "lens_of_components = sorted([len(el) for el in nx.connected_components(exclude_one_nodes)], reverse=True)\n",
    "print('Размеры компонент связности:', lens_of_components)"
   ]
  },
  {
   "cell_type": "code",
   "execution_count": 26,
   "metadata": {},
   "outputs": [],
   "source": [
    "def str_to_tuple(s):\n",
    "    return tuple([el.lstrip() for el in s.replace('(', '').replace(')', '').replace('[', '').replace(']', '').replace(\"'\", '').split(',')])"
   ]
  },
  {
   "cell_type": "code",
   "execution_count": 27,
   "metadata": {},
   "outputs": [],
   "source": [
    "# Посмотрим как связываются вершины\n",
    "with open('out/connections.csv', 'r', encoding='utf-8') as f:\n",
    "    connections = f.read().split('\\n')[1:]\n",
    "\n",
    "connections = list(map(lambda x: (x[0], x[1], str_to_tuple(x[2])), [el.split('\\t') for el in connections if el != '']))"
   ]
  },
  {
   "cell_type": "code",
   "execution_count": 28,
   "metadata": {},
   "outputs": [],
   "source": [
    "phone_connections = list(filter(lambda x: x[2][0] == 'phone', connections))\n",
    "email_connections = list(filter(lambda x: x[2][0] == 'email', connections))\n",
    "inn_connections = list(filter(lambda x: x[2][0] == 'ИНН', connections))\n",
    "ogrn_connections = list(filter(lambda x: x[2][0] == 'ОГРН', connections))"
   ]
  },
  {
   "cell_type": "code",
   "execution_count": 29,
   "metadata": {},
   "outputs": [
    {
     "data": {
      "text/plain": [
       "([<matplotlib.patches.Wedge at 0x11cb04b8650>,\n",
       "  <matplotlib.patches.Wedge at 0x11cb04b96d0>,\n",
       "  <matplotlib.patches.Wedge at 0x11cb04ba690>,\n",
       "  <matplotlib.patches.Wedge at 0x11cb04bb590>],\n",
       " [Text(-1.0953114612731176, 0.1014534514136802, 'phone'),\n",
       "  Text(1.0890192597508739, -0.15503887219552107, 'email'),\n",
       "  Text(1.0970438946281065, -0.08058965975357205, 'ИНН'),\n",
       "  Text(1.0996759061212962, -0.026700215285764772, 'ОГРН')])"
      ]
     },
     "execution_count": 29,
     "metadata": {},
     "output_type": "execute_result"
    },
    {
     "data": {
      "image/png": "[encoded data removed]",
      "text/plain": [
       "<Figure size 640x480 with 1 Axes>"
      ]
     },
     "metadata": {},
     "output_type": "display_data"
    }
   ],
   "source": [
    "plt.pie([len(phone_connections), len(email_connections), len(inn_connections), len(ogrn_connections)], labels=['phone', 'email', 'ИНН', 'ОГРН'])"
   ]
  },
  {
   "cell_type": "code",
   "execution_count": 30,
   "metadata": {},
   "outputs": [
    {
     "name": "stdout",
     "output_type": "stream",
     "text": [
      "phone connections: 42456\n",
      "email connections: 603\n",
      "ИНН connections: 345\n",
      "ОГРН connections: 338\n",
      "total connections: 43742\n"
     ]
    }
   ],
   "source": [
    "print('phone connections:', len(phone_connections))\n",
    "print('email connections:', len(email_connections))\n",
    "print('ИНН connections:', len(inn_connections))\n",
    "print('ОГРН connections:', len(ogrn_connections))\n",
    "print('total connections:', len(connections))"
   ]
  },
  {
   "attachments": {},
   "cell_type": "markdown",
   "metadata": {},
   "source": [
    "В основном сайты связаны через номер телефона. Делаем вывод, что застройщики обычно не меняют номер телефона для разных сайтов и используют централизрованные номера телефонов, которые приходят в одну \"точку\""
   ]
  },
  {
   "cell_type": "code",
   "execution_count": 31,
   "metadata": {},
   "outputs": [
    {
     "name": "stdout",
     "output_type": "stream",
     "text": [
      "ТОП-3 групп по количеству связей:\n",
      "\n",
      "{'avani-palm-view.com.html', 'cherrywoods-meraas.ae.html', 'apartments-dubai.sale.html', 'dubai-luxury.property.html', 'oakley-square.ae.html', 'downtown-dubai-properties.com.html', 'zada-tower.ae.html', 'the-highbury.ae.html', 'dubai-marina-shores.ae.html', 'yas-golf-collection-aldar.ae.html', 'grove-fountain-views.ae.html', 'nice-damac-lagoons.ae.html', 'the-8.ae.html', 'damac-lagoons.properties.html', 'six-senses-the-palm.com.html', 'rukan-lofts.ae.html', 'gardens-plaza.ae.html', 'w-residences-dubai.com.html', 'costa-brava-damac-lagoons.ae.html', 'elite-downtown-residence.ae.html', 'elitz-danube.ae.html', 'fairmont-the-palm.ae.html', 'zuha-al-barari.com.html', 'amalfi-villas.ae.html', 'monte-carlo-damac-lagoons.com.html', 'wasl-1-residences.com.html', 'anantara-the-palm-dubai.com.html', 'kempinski-residences-dubai.ae.html', 'belair-damac-hills.ae.html', 'damac-properties.sale.html', 'one-zaabeel.sale.html', 'nara-the-valley.com.html', 'sobha-1.com.html', 'marbella-damac-lagoons.com.html', 'marina-gate.ae.html', 'rosewater-creek-beach.com.html', 'abu-dhabi-properties.ae.html', 'talia-the-valley.ae.html', 'beachgate-by-address.com.html', 'riviera-reve.ae.html', 'marina-living-dubai.com.html', 'creek-beach-grove.ae.html', 'seagate-emaar.ae.html', 'silver-springs-damac-hills.ae.html', 'chic-tower-bussines-bay.com.html', 'laurel-central-park.com.html', 'elegance-tower-damac.com.html', 'creek-vistas-heights.ae.html', 'creek-beach-orchid.ae.html', 'auragardens.com.html', 'the-legends-damac.properties.html', 'al-maryah-vista.ae.html', 'la-vie.ae.html', 'greenwoods-damac-hills.ae.html', 'venice-damac.ae.html', 'orla-omniyat.ru.html', 'eterno-damac-hills-2.com.html', 'serenia-living.com.html', 'madinat-jumeirah-living.sale.html', 'lime-gardens.ae.html', 'la-violeta-2.ae.html', 'riviera-reve.ru.html', 'liva-apartments.ae.html', 'the-cove-2.ae.html', 'dubai-hills.estate.html', 'dubai-emaar.properties.html', 'kempinski-residences-the-creek.com.html', 'orania-at-the-valley.com.html', 'beach-isle-emaar-beachfront.ae.html', 'maha-townhouses.com.html', 'waves-opulence.ae.html', 'lotus-emaar-properties.ae.html', 'nad-al-sheba-villas.com.html', 'off-plan-dubai.ae.html', 'creek-vistas-heights.com.html', 'one-palm-omniyat.com.html', 'a-la-carte-villas.com.html', 'riviera-mbr.ae.html', 'the-opus.ae.html', 'palm-couture.com.html', 'dorchester-collection-dubai.com.html', 'sobha-hartland-properties.com.html', 'central-park-castleton.com.html', 'malta-damac-lagoons.ae.html', 'oceana-residences.ae.html', 'ellington-beach-house.sale.html', 'jumeirah-living-business-bay.com.html', 'address-jbr.com.html', 'binghatti-luna.ae.html', 'sobha-hartland-crest-grande.ae.html', 'the-s-tower.com.html', 'seventh-heaven-al-barari.com.html', 'raya-arabian-ranches-3.com.html', 'calia-beach-collection.ae.html', 'sobha-one-dubai.com.html', 'peninsula-4.com.html', 'palm-jumeirah.properties.html', 'perla2-yas-island.ae.html', 'maimoon-gardens.ae.html', 'seven-palm-dubai.ae.html', 'al-jurf-gardens.ae.html', 'opal-gardens.com.html', 'the-royal-atlantis.com.html', 'address-villas-hillcrest-dubai.com.html', 'grand-bleu-tower.com.html', 'district-1.ae.html', 'dubai-hills-park.ae.html', 'safa-one-residences.ae.html', 'five-beach-jbr.com.html', 'gems-estates-damac-hills.ae.html', 'sobha-the-crest.ae.html', 'the-sterling-towers.com.html', 'park-field.ae.html', 'the-farmhouses-damac-hills-2.com.html', 'petalz-al-warsan.ae.html', 'liv-marina.sale.html', 'business-bay-properties.com.html', 'crypto-dubai.properties.html', 'opalz-danube-properties.com.html', 'portofino-damac-lagoons.ae.html', 'chic-tower.com.html', 'dubai-sea-view-properties.com.html', 'dubai-luxury.villas.html', 'yas-park-gate-aldar.ae.html', 'vincitore-volare.com.html', 'south-bay.ae.html', 'the-portman.com.html', 'eden-villas.ae.html', 'gems-estates-cavalli-degrisogono.ae.html', 'mrc-residences.com.html', 'il-primo.ae.html', 'mama-shelter.ru.html', 'pagani-dar-al-arkan.com.html', 'golf-heights-emirates-living.com.html', 'cavalli-tower-damac.ae.html', 'dubai-property.investments.html', 'aykon-heights.ae.html', 'malta-damac-lagoons.ru.html', 'damac-lagoons.sale.html', 'hamilton-house.ae.html', 'st-regis-downtown.com.html', 'emaar-beachfront-properties.com.html', 'la-rive-4.com.html', 'central-park-castleton.ae.html', 'cavalli-couture.com.html', 'samana-santorini.ae.html', 'mama-residences.ae.html', 'canal-front-residences-dubai.com.html', 'fay-al-reeman-al-shamkha.ae.html', 'marina-living-dubai-marina.com.html', 'al-maryah-vista-2.ae.html', 'peninsula-four-the-plaza.ae.html', 'tilal-al-ghaf.sale.html', 'bulgary-residences.com.html', 'dubai-properties.sale.html', 'ava-at-palm-jumeirah.ae.html', 'safa-two.com.html', 'tria-by-deyaar.com.html', 'shams-townhouses.ae.html', 'rukan-maison.ae.html', '22-carat.ae.html', 'serenia-palm-jumeirah.com.html', 'al-jazi.ae.html', 'binghatti-crest.ae.html', 'binghatti-heights.ae.html', 'soho-palm.com.html', 'stella-maris-tower.com.html', 'golf-gate-damac-hills.ae.html', 'lamaa.ae.html', 'cavalli-estates-damac.ae.html', 'lamaa-mjl.com.html', 'beverly-hills-drive.com.html', 'address-residences-the-bay.com.html', 'louvre-abu-dhabi-residences.ae.html', 'lanai-islands.com.html', 'creek-palace.ae.html', 'jbr-beachfront-five.com.html', 'orla-omniyat.com.html', 'the-paragon.sale.html', 'cavalli-couture-damac.ae.html', 'nara-townhouses.ae.html', 'sobha-crest-grande.com.html', 'nikki-beach.ae.html', 'sur-la-mer-meraas.ae.html', 'the-valley.ae.html', 'damac-maison-prive.com.html', 'dubai-marina-properties.com.html', 'laurel-central-park.ae.html', 'reva-residence.com.html', 'nad-al-sheba-gardens-dubai.com.html', 'palm-beach-towers.sale.html', 'albarari-villas.ae.html', 'bulgari-lighthouse-dubai.ae.html', 'majestic-vistas.ae.html', 'bloom-living.ae.html', 'alaya-gardens.ae.html', 'district-one-villas-mbr-city.com.html', 'joya-dorado.ae.html', 'grove-museum-views.ae.html', 'dubai-hills-vista.ae.html', '1jbr.ae.html', 'safa-two-residences.ru.html'}\n",
      "\n",
      "{'emerald-spb.ru.html', 'amber-house.ru.html', 'residence-sg.ru.html', 'palace-fasade.ru.html', 'gorodzvezd.ru.html', 'gravity-kvartal.ru.html', 'kvartal-petrovskiy.ru.html', 'nebo-kamenka.ru.html', 'univercity-spb.ru.html', 'avtograf-center.ru.html', 'panorama-sosnovka.ru.html', 'stockholm-spb.ru.html', 'grand-view.ru.html', 'zeleny-kvartal.ru.html', 'astramarine-spb.ru.html', 'kvartal-palacio.ru.html', 'pulse-premier.ru.html', 'parade-ensemble.ru.html', 'strizhi2.ru.html', 'philosophy-spb.ru.html', 'solnce-gorod.ru.html', 'senat-spb.ru.html'}\n",
      "\n",
      "{'podbor.stn-realty.ru.html', 'promo.tsvetynn.ru.html', 'sale.stn-realty.ru.html', 'comfort.stn-realty.ru.html', 'nk.stn-realty.ru.html', 'promo.stn-realty.ru.html', 'новостройки-нн.рф.html', 'lainer.stn-realty.ru.html', 'soon.stn-realty.ru.html', 'ipoteka.stn-realty.ru.html', 'nk2.stn-realty.ru.html', 'start.stn-realty.ru.html', 'anketa.stn-realty.ru.html', 'nn.stn-realty.ru.html', 'tradein.stn-realty.ru.html', 'novostroiki-nn.ru.html', 'tur.stn-realty.ru.html'}\n"
     ]
    }
   ],
   "source": [
    "print('ТОП-3 групп по количеству связей:', *sorted(nx.connected_components(exclude_one_nodes), key=len, reverse=True)[:3], sep='\\n\\n')"
   ]
  },
  {
   "cell_type": "code",
   "execution_count": 32,
   "metadata": {},
   "outputs": [],
   "source": [
    "# Разобьем связи по группам и посмотрим на них\n",
    "sorted_exclude =sorted(list(map(lambda x: list(x), nx.connected_components(exclude_one_nodes))), key=len, reverse=True)\n",
    "grouped_connections = [{'phone': set(), 'email': set(), 'ИНН': set(), 'ОГРН': set()} for _ in range(len(sorted_exclude))]\n",
    "for site1, site2, val in connections:\n",
    "    ind_site1 = [ind for ind, el in enumerate(sorted_exclude) if site1 in el]\n",
    "    ind_site2 = [ind for ind, el in enumerate(sorted_exclude) if site2 in el]\n",
    "    if len(ind_site1) > 0:\n",
    "        grouped_connections[ind_site1[0]][val[0]].add(val[1])\n",
    "    if len(ind_site2) > 0:\n",
    "        grouped_connections[ind_site2[0]][val[0]].add(val[1])"
   ]
  },
  {
   "cell_type": "code",
   "execution_count": 34,
   "metadata": {},
   "outputs": [
    {
     "name": "stdout",
     "output_type": "stream",
     "text": [
      "0 ['phone']\n",
      "1 ['phone']\n",
      "2 ['ИНН', 'ОГРН']\n",
      "3 ['phone']\n",
      "4 ['phone']\n",
      "5 ['phone']\n",
      "6 ['phone', 'email']\n",
      "7 ['phone', 'email']\n",
      "8 ['phone', 'email']\n",
      "9 ['phone']\n",
      "10 ['phone']\n",
      "11 ['phone', 'email']\n",
      "12 ['email']\n",
      "13 ['phone']\n",
      "14 ['phone', 'email']\n",
      "15 ['phone']\n",
      "16 ['phone']\n",
      "17 ['phone']\n",
      "18 ['phone']\n",
      "19 ['phone']\n",
      "20 ['phone']\n",
      "21 ['phone', 'email']\n",
      "22 ['phone', 'email']\n",
      "23 ['phone']\n",
      "24 ['phone']\n",
      "25 ['phone', 'email']\n",
      "26 ['phone', 'email']\n",
      "27 ['phone']\n",
      "28 ['phone']\n",
      "29 ['phone']\n",
      "30 ['email']\n",
      "31 ['phone', 'ИНН', 'ОГРН']\n",
      "32 ['ИНН', 'ОГРН']\n",
      "33 ['phone', 'ИНН', 'ОГРН']\n",
      "34 ['phone', 'email']\n",
      "35 ['email', 'ИНН', 'ОГРН']\n",
      "36 ['phone']\n",
      "37 ['phone']\n",
      "38 ['email']\n",
      "39 ['phone']\n",
      "40 ['email']\n",
      "41 ['phone', 'email']\n",
      "42 ['phone', 'email']\n",
      "43 ['phone']\n",
      "44 ['phone']\n",
      "45 ['phone']\n",
      "46 ['phone']\n",
      "47 ['phone', 'email']\n",
      "48 ['phone']\n",
      "49 ['phone']\n",
      "50 ['phone']\n",
      "51 ['phone', 'email']\n",
      "52 ['phone', 'email']\n",
      "53 ['phone']\n",
      "54 ['phone']\n",
      "55 ['phone']\n",
      "56 ['phone', 'email']\n",
      "57 ['phone']\n",
      "58 ['phone']\n",
      "59 ['phone']\n",
      "60 ['phone', 'email', 'ИНН', 'ОГРН']\n",
      "61 ['phone', 'email']\n",
      "62 ['phone']\n",
      "63 ['phone', 'email']\n",
      "64 ['email']\n",
      "65 ['ИНН']\n",
      "66 ['phone']\n",
      "67 ['phone']\n",
      "68 ['phone']\n",
      "69 ['phone', 'email']\n",
      "70 ['phone']\n",
      "71 ['phone', 'email']\n",
      "72 ['phone']\n",
      "73 ['phone']\n",
      "74 ['phone', 'email']\n",
      "75 ['phone', 'email']\n",
      "76 ['email']\n",
      "77 ['phone']\n",
      "78 ['phone']\n",
      "79 ['email']\n",
      "80 ['phone']\n",
      "81 ['phone', 'email']\n",
      "82 ['phone']\n",
      "83 ['phone', 'email']\n",
      "84 ['phone', 'email']\n",
      "85 ['phone', 'email']\n",
      "86 ['phone', 'email']\n",
      "87 ['phone']\n",
      "88 ['phone']\n",
      "89 ['ИНН', 'ОГРН']\n",
      "90 ['phone']\n",
      "91 ['phone', 'email']\n",
      "92 ['phone', 'email']\n",
      "93 ['phone', 'email']\n",
      "94 ['phone']\n",
      "95 ['phone']\n",
      "96 ['phone']\n",
      "97 ['phone', 'email']\n",
      "98 ['phone']\n",
      "99 ['phone']\n",
      "100 ['phone', 'email']\n",
      "101 ['phone']\n",
      "102 ['phone']\n",
      "103 ['phone', 'email']\n",
      "104 ['phone', 'email']\n",
      "105 ['phone']\n",
      "106 ['phone']\n",
      "107 ['phone', 'email']\n",
      "108 ['email']\n",
      "109 ['phone', 'email']\n",
      "110 ['phone', 'email', 'ИНН']\n",
      "111 ['email']\n",
      "112 ['phone']\n",
      "113 ['phone', 'email']\n",
      "114 ['phone', 'email']\n",
      "115 ['ИНН', 'ОГРН']\n",
      "116 ['phone', 'email']\n",
      "117 ['email']\n",
      "118 ['phone', 'email']\n",
      "119 ['phone', 'email']\n",
      "120 ['phone', 'email']\n",
      "121 ['phone']\n",
      "122 ['phone', 'email']\n",
      "123 ['phone', 'email']\n",
      "124 ['phone']\n",
      "125 ['email']\n",
      "126 ['email']\n",
      "127 ['ИНН']\n",
      "128 ['phone']\n",
      "129 ['phone', 'email']\n",
      "130 ['phone']\n",
      "131 ['phone', 'email']\n",
      "132 ['ИНН', 'ОГРН']\n",
      "133 ['phone']\n",
      "134 ['phone']\n",
      "135 ['phone', 'email']\n",
      "136 ['phone']\n",
      "137 ['phone', 'email']\n",
      "138 ['phone']\n",
      "139 ['phone', 'email']\n",
      "140 ['email']\n",
      "141 ['phone']\n",
      "142 ['phone']\n",
      "143 ['phone']\n",
      "144 ['phone']\n",
      "145 ['phone', 'email']\n",
      "146 ['email']\n",
      "147 ['phone']\n",
      "148 ['phone', 'email']\n",
      "149 ['phone']\n",
      "150 ['phone', 'email']\n",
      "151 ['phone']\n",
      "152 ['ИНН']\n",
      "153 ['phone', 'email']\n",
      "154 ['phone']\n",
      "155 ['phone', 'email']\n",
      "156 ['phone', 'ОГРН']\n",
      "157 ['phone', 'email']\n",
      "158 ['phone']\n",
      "159 ['phone', 'email']\n",
      "160 ['phone', 'email']\n",
      "161 ['phone']\n",
      "162 ['phone']\n",
      "163 ['phone']\n",
      "164 ['phone', 'email']\n",
      "165 ['phone', 'email']\n",
      "166 ['phone']\n",
      "167 ['email']\n",
      "168 ['phone']\n",
      "169 ['email']\n",
      "170 ['phone']\n",
      "171 ['phone']\n",
      "172 ['phone']\n",
      "173 ['phone']\n",
      "174 ['phone', 'email']\n",
      "175 ['phone', 'email']\n",
      "176 ['phone']\n",
      "177 ['phone']\n",
      "178 ['phone', 'ОГРН']\n",
      "179 ['phone', 'email']\n",
      "180 ['phone']\n",
      "181 ['phone', 'email']\n",
      "182 ['phone']\n",
      "183 ['phone', 'email']\n",
      "184 ['email']\n",
      "185 ['phone']\n",
      "186 ['phone']\n",
      "187 ['phone', 'email']\n",
      "188 ['phone']\n",
      "189 ['phone']\n",
      "190 ['phone']\n",
      "191 ['phone', 'email']\n",
      "192 ['phone', 'email']\n",
      "193 ['phone', 'email']\n",
      "194 ['phone']\n",
      "195 ['phone', 'email']\n",
      "196 ['phone']\n",
      "197 ['phone']\n",
      "198 ['phone']\n",
      "199 ['phone']\n",
      "200 ['phone']\n",
      "201 ['phone']\n",
      "202 ['phone']\n",
      "203 ['phone', 'email']\n",
      "204 ['phone', 'email']\n",
      "205 ['phone', 'email']\n",
      "206 ['phone']\n",
      "207 ['phone']\n",
      "208 ['phone', 'email']\n",
      "209 ['phone', 'email']\n",
      "210 ['phone']\n",
      "211 ['phone', 'email']\n",
      "212 ['phone']\n",
      "213 ['phone']\n",
      "214 ['email']\n",
      "215 ['phone', 'email']\n",
      "216 ['phone']\n",
      "217 ['phone']\n",
      "218 ['phone', 'email']\n",
      "219 ['phone', 'email']\n",
      "220 ['phone']\n",
      "221 ['email']\n",
      "222 ['phone']\n",
      "223 ['phone']\n",
      "224 ['phone', 'email']\n",
      "225 ['phone']\n",
      "226 ['email']\n",
      "227 ['phone']\n",
      "228 ['phone']\n",
      "229 ['phone', 'email']\n",
      "230 ['phone']\n",
      "231 ['phone']\n",
      "232 ['phone']\n",
      "233 ['phone']\n",
      "234 ['phone', 'email']\n",
      "235 ['phone']\n",
      "236 ['phone']\n",
      "237 ['email']\n",
      "238 ['phone', 'email']\n",
      "239 ['phone']\n",
      "240 ['ИНН', 'ОГРН']\n",
      "241 ['phone']\n",
      "242 ['phone', 'email']\n",
      "243 ['phone']\n",
      "244 ['phone']\n",
      "245 ['phone']\n",
      "246 ['phone', 'email']\n",
      "247 ['phone']\n",
      "248 ['phone']\n",
      "249 ['phone']\n",
      "250 ['phone']\n",
      "251 ['phone']\n",
      "252 ['phone']\n",
      "253 ['email']\n",
      "254 ['email']\n",
      "255 ['phone']\n",
      "256 ['phone', 'email']\n",
      "257 ['phone']\n",
      "258 ['phone']\n",
      "259 ['phone']\n",
      "260 ['phone']\n",
      "261 ['phone']\n",
      "262 ['phone']\n",
      "263 ['email']\n",
      "264 ['phone', 'email', 'ИНН']\n",
      "265 ['phone']\n",
      "266 ['email']\n",
      "267 ['phone']\n",
      "268 ['phone']\n",
      "269 ['phone', 'email']\n",
      "270 ['phone']\n",
      "271 ['phone']\n",
      "272 ['phone']\n",
      "273 ['phone']\n",
      "274 ['email']\n",
      "275 ['phone', 'email']\n",
      "276 ['phone']\n",
      "277 ['phone', 'email', 'ИНН', 'ОГРН']\n",
      "278 ['phone']\n",
      "279 ['phone', 'email']\n",
      "280 ['phone']\n",
      "281 ['phone']\n",
      "282 ['phone']\n",
      "283 ['phone']\n",
      "284 ['ОГРН']\n",
      "285 ['phone', 'email']\n",
      "286 ['email']\n",
      "287 ['phone']\n",
      "288 ['phone']\n",
      "289 ['email']\n",
      "290 ['ИНН', 'ОГРН']\n",
      "291 ['phone']\n",
      "292 ['phone', 'email']\n",
      "293 ['phone', 'email']\n",
      "294 ['phone', 'email', 'ОГРН']\n",
      "295 ['phone', 'email']\n",
      "296 ['phone', 'email']\n",
      "297 ['phone']\n",
      "298 ['phone', 'email', 'ИНН', 'ОГРН']\n",
      "299 ['phone']\n",
      "300 ['email']\n",
      "301 ['phone', 'email']\n",
      "302 ['email']\n",
      "303 ['phone', 'email']\n",
      "304 ['phone', 'email']\n",
      "305 ['email']\n",
      "306 ['phone']\n",
      "307 ['phone', 'email']\n",
      "308 ['phone', 'email', 'ОГРН']\n",
      "309 ['phone']\n",
      "310 ['phone', 'email']\n",
      "311 ['phone']\n",
      "312 ['phone']\n",
      "313 ['phone', 'email']\n",
      "314 ['phone', 'ИНН', 'ОГРН']\n",
      "315 ['phone']\n",
      "316 ['phone']\n",
      "317 ['phone']\n",
      "318 ['phone']\n",
      "319 ['phone']\n",
      "320 ['email']\n",
      "321 ['phone']\n",
      "322 ['phone']\n",
      "323 ['phone']\n",
      "324 ['phone']\n",
      "325 ['email']\n",
      "326 ['email']\n",
      "327 ['email']\n",
      "328 ['phone', 'email']\n",
      "329 ['phone']\n",
      "330 ['phone', 'email']\n",
      "331 ['phone', 'email']\n",
      "332 ['phone', 'email']\n",
      "333 ['phone']\n",
      "334 ['phone']\n",
      "335 ['phone', 'email', 'ИНН', 'ОГРН']\n",
      "336 ['phone']\n",
      "337 ['email']\n",
      "338 ['phone']\n",
      "339 ['phone']\n",
      "340 ['phone', 'email']\n",
      "341 ['phone']\n",
      "342 ['phone']\n",
      "343 ['phone', 'email']\n",
      "344 ['email']\n",
      "345 ['phone']\n",
      "346 ['phone']\n",
      "347 ['email']\n",
      "348 ['phone']\n",
      "349 ['phone', 'email']\n",
      "350 ['phone']\n",
      "351 ['phone']\n",
      "352 ['phone']\n",
      "353 ['email']\n",
      "354 ['phone', 'email']\n",
      "355 ['phone']\n",
      "356 ['phone']\n",
      "357 ['phone', 'email']\n",
      "358 ['phone', 'email']\n",
      "359 ['email']\n",
      "360 ['phone']\n",
      "361 ['phone', 'email']\n",
      "362 ['phone', 'email']\n",
      "363 ['phone']\n",
      "364 ['phone']\n",
      "365 ['phone', 'email']\n",
      "366 ['phone', 'email']\n",
      "367 ['phone', 'email']\n",
      "368 ['email']\n",
      "369 ['phone']\n",
      "370 ['email']\n",
      "371 ['phone']\n",
      "372 ['phone']\n",
      "373 ['phone']\n",
      "374 ['phone']\n",
      "375 ['phone', 'email']\n",
      "376 ['phone', 'email']\n",
      "377 ['phone', 'email']\n",
      "378 ['email']\n",
      "379 ['phone']\n",
      "380 ['phone', 'email']\n",
      "381 []\n",
      "382 ['phone']\n",
      "383 ['phone']\n",
      "384 ['phone', 'ИНН']\n",
      "385 ['phone']\n",
      "386 ['phone']\n",
      "387 ['phone']\n",
      "388 ['phone']\n",
      "389 ['phone']\n",
      "390 ['phone']\n",
      "391 ['email']\n",
      "392 ['phone']\n",
      "393 ['phone', 'email']\n",
      "394 ['phone']\n",
      "395 ['phone']\n",
      "396 ['phone', 'email']\n",
      "397 ['phone', 'email']\n",
      "398 ['ИНН']\n",
      "399 ['phone']\n",
      "400 ['phone']\n",
      "401 []\n",
      "402 []\n",
      "403 []\n",
      "404 ['phone']\n",
      "405 ['phone']\n",
      "406 ['phone']\n",
      "407 ['phone']\n",
      "408 ['phone']\n",
      "409 ['phone']\n",
      "410 ['phone']\n",
      "411 ['phone']\n",
      "412 ['phone', 'email']\n",
      "413 ['phone']\n",
      "414 ['phone']\n",
      "415 ['phone']\n",
      "416 ['phone']\n",
      "417 ['phone', 'email']\n",
      "418 ['phone']\n",
      "419 ['phone']\n"
     ]
    }
   ],
   "source": [
    "# Какие способы использутся для связи сайтов (в порядке убывания количества связей)\n",
    "connection_ways = list()\n",
    "for connections in grouped_connections:\n",
    "    out = [el[0] for el in connections.items() if len(el[1]) > 0]\n",
    "    connection_ways.append(out)\n",
    "\n",
    "for ind, el in enumerate(connection_ways):\n",
    "    print(ind, el)"
   ]
  },
  {
   "cell_type": "code",
   "execution_count": 37,
   "metadata": {},
   "outputs": [
    {
     "name": "stdout",
     "output_type": "stream",
     "text": [
      "Размер самой большой компоненты связности по номеру: 202\n",
      "Размер самой большой компоненты связности по email: 7\n",
      "Размер самой большой компоненты связности по ИНН: 17\n",
      "Размер самой большой компоненты связности по ОГРН: 17\n"
     ]
    }
   ],
   "source": [
    "# Размер самой большой компоненты связности по номеру\n",
    "print('Размер самой большой компоненты связности по номеру:', len(sorted_exclude[min(map(lambda x: x[0], filter(lambda x: 'phone' in x[1], enumerate(connection_ways))))]))\n",
    "# Размер самой большой компоненты связности по email\n",
    "print('Размер самой большой компоненты связности по email:', len(sorted_exclude[min(map(lambda x: x[0], filter(lambda x: 'email' in x[1], enumerate(connection_ways))))]))\n",
    "# Размер самой большой компоненты связности по ИНН\n",
    "print('Размер самой большой компоненты связности по ИНН:',  len(sorted_exclude[min(map(lambda x: x[0], filter(lambda x: 'ИНН' in x[1], enumerate(connection_ways))))]))\n",
    "# Размер самой большой компоненты связности по ОГРН\n",
    "print('Размер самой большой компоненты связности по ОГРН:',  len(sorted_exclude[min(map(lambda x: x[0], filter(lambda x: 'ОГРН' in x[1], enumerate(connection_ways))))]))"
   ]
  },
  {
   "cell_type": "code",
   "execution_count": 38,
   "metadata": {},
   "outputs": [
    {
     "name": "stdout",
     "output_type": "stream",
     "text": [
      "Local cdn resources have problems on chrome/safari when used in jupyter-notebook. \n"
     ]
    },
    {
     "data": {
      "text/html": [
       "\n",
       "        <iframe\n",
       "            width=\"100%\"\n",
       "            height=\"600px\"\n",
       "            src=\"out/nx.html\"\n",
       "            frameborder=\"0\"\n",
       "            allowfullscreen\n",
       "            \n",
       "        ></iframe>\n",
       "        "
      ],
      "text/plain": [
       "<IPython.lib.display.IFrame at 0x11cb32f83d0>"
      ]
     },
     "execution_count": 38,
     "metadata": {},
     "output_type": "execute_result"
    }
   ],
   "source": [
    "# Сохраняем граф в файл\n",
    "nt = Network(notebook=True)\n",
    "nt.show_buttons(filter_=['physics'])\n",
    "nt.from_nx(exclude_one_nodes)\n",
    "nt.show('out/nx.html')"
   ]
  }
 ],
 "metadata": {
  "kernelspec": {
   "display_name": "Python 3",
   "language": "python",
   "name": "python3"
  },
  "language_info": {
   "codemirror_mode": {
    "name": "ipython",
    "version": 3
   },
   "file_extension": ".py",
   "mimetype": "text/x-python",
   "name": "python",
   "nbconvert_exporter": "python",
   "pygments_lexer": "ipython3",
   "version": "3.11.1"
  },
  "orig_nbformat": 4,
  "vscode": {
   "interpreter": {
    "hash": "5238573367df39f7286bb46f9ff5f08f63a01a80960060ce41e3c79b190280fa"
   }
  }
 },
 "nbformat": 4,
 "nbformat_minor": 2
}
